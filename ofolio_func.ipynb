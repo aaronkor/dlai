{
  "nbformat": 4,
  "nbformat_minor": 0,
  "metadata": {
    "colab": {
      "name": "ofolio_func.ipynb",
      "version": "0.3.2",
      "provenance": [],
      "include_colab_link": true
    },
    "kernelspec": {
      "name": "python3",
      "display_name": "Python 3"
    }
  },
  "cells": [
    {
      "cell_type": "markdown",
      "metadata": {
        "id": "view-in-github",
        "colab_type": "text"
      },
      "source": [
        "<a href=\"https://colab.research.google.com/github/aaronkor/dlai/blob/master/ofolio_func.ipynb\" target=\"_parent\"><img src=\"https://colab.research.google.com/assets/colab-badge.svg\" alt=\"Open In Colab\"/></a>"
      ]
    },
    {
      "cell_type": "code",
      "metadata": {
        "id": "eFG5sdNv7K8m",
        "colab_type": "code",
        "colab": {
          "base_uri": "https://localhost:8080/",
          "height": 353
        },
        "outputId": "119c0653-3b6e-4271-dcde-ed20cc913506"
      },
      "source": [
        "# Installs\n",
        "# ---------------------------\n",
        "!pip install quandl\n",
        "\n",
        "# Imports\n",
        "# ---------------------------\n",
        "\n",
        "# Testing GitHub\n",
        "import quandl\n",
        "import pandas as pd\n",
        "import numpy as np\n",
        "import time\n",
        "from scipy.optimize import minimize\n",
        "import matplotlib.pyplot as plt\n",
        "\n",
        "quandl.ApiConfig.api_key = 'yNJSYyossf9pcx-SEepW'"
      ],
      "execution_count": 14,
      "outputs": [
        {
          "output_type": "stream",
          "text": [
            "Requirement already satisfied: quandl in /usr/local/lib/python3.6/dist-packages (3.4.8)\n",
            "Requirement already satisfied: pyOpenSSL in /usr/local/lib/python3.6/dist-packages (from quandl) (19.0.0)\n",
            "Requirement already satisfied: ndg-httpsclient in /usr/local/lib/python3.6/dist-packages (from quandl) (0.5.1)\n",
            "Requirement already satisfied: pyasn1 in /usr/local/lib/python3.6/dist-packages (from quandl) (0.4.5)\n",
            "Requirement already satisfied: more-itertools<=5.0.0 in /usr/local/lib/python3.6/dist-packages (from quandl) (5.0.0)\n",
            "Requirement already satisfied: python-dateutil in /usr/local/lib/python3.6/dist-packages (from quandl) (2.5.3)\n",
            "Requirement already satisfied: six in /usr/local/lib/python3.6/dist-packages (from quandl) (1.12.0)\n",
            "Requirement already satisfied: pandas>=0.14 in /usr/local/lib/python3.6/dist-packages (from quandl) (0.24.2)\n",
            "Requirement already satisfied: inflection>=0.3.1 in /usr/local/lib/python3.6/dist-packages (from quandl) (0.3.1)\n",
            "Requirement already satisfied: requests>=2.7.0 in /usr/local/lib/python3.6/dist-packages (from quandl) (2.21.0)\n",
            "Requirement already satisfied: numpy>=1.8 in /usr/local/lib/python3.6/dist-packages (from quandl) (1.16.3)\n",
            "Requirement already satisfied: cryptography>=2.3 in /usr/local/lib/python3.6/dist-packages (from pyOpenSSL->quandl) (2.6.1)\n",
            "Requirement already satisfied: pytz>=2011k in /usr/local/lib/python3.6/dist-packages (from pandas>=0.14->quandl) (2018.9)\n",
            "Requirement already satisfied: chardet<3.1.0,>=3.0.2 in /usr/local/lib/python3.6/dist-packages (from requests>=2.7.0->quandl) (3.0.4)\n",
            "Requirement already satisfied: idna<2.9,>=2.5 in /usr/local/lib/python3.6/dist-packages (from requests>=2.7.0->quandl) (2.8)\n",
            "Requirement already satisfied: urllib3<1.25,>=1.21.1 in /usr/local/lib/python3.6/dist-packages (from requests>=2.7.0->quandl) (1.24.2)\n",
            "Requirement already satisfied: certifi>=2017.4.17 in /usr/local/lib/python3.6/dist-packages (from requests>=2.7.0->quandl) (2019.3.9)\n",
            "Requirement already satisfied: cffi!=1.11.3,>=1.8 in /usr/local/lib/python3.6/dist-packages (from cryptography>=2.3->pyOpenSSL->quandl) (1.12.3)\n",
            "Requirement already satisfied: asn1crypto>=0.21.0 in /usr/local/lib/python3.6/dist-packages (from cryptography>=2.3->pyOpenSSL->quandl) (0.24.0)\n",
            "Requirement already satisfied: pycparser in /usr/local/lib/python3.6/dist-packages (from cffi!=1.11.3,>=1.8->cryptography>=2.3->pyOpenSSL->quandl) (2.19)\n"
          ],
          "name": "stdout"
        }
      ]
    },
    {
      "cell_type": "code",
      "metadata": {
        "id": "A1itaNIV7Tps",
        "colab_type": "code",
        "colab": {}
      },
      "source": [
        "# inputs\n",
        "tickers = ['CNP', 'F', 'WMT', 'C', 'A', 'V', 'AAL', 'HD', 'MSI', 'GM', 'GS',\n",
        "           'GOOG', 'QCOM', 'CSCO', 'MGAWY', 'PSA', 'LIN', 'KOD', 'ACC', 'CBI',\n",
        "           'ECOL', 'EE', 'GGG', 'GNE', 'GMO', 'H', 'HE', 'KOP', 'KS','LNKD',\n",
        "          'LORL', 'MAR', 'MCRI']\n",
        "# Optimizaed for period Start_Date / End_Date\n",
        "start_date = '2017-4-1'\n",
        "end_date = '2018-3-31'\n",
        "annual_risk_free_intrest = 0.016\n",
        "max_single_asset_weight = 0.125\n"
      ],
      "execution_count": 0,
      "outputs": []
    },
    {
      "cell_type": "code",
      "metadata": {
        "id": "TgdNcvRt8j05",
        "colab_type": "code",
        "colab": {}
      },
      "source": [
        "def get_data(tickers,start_date,end_date):\n",
        "    data_columns = ['date', 'ticker', 'adj_close']\n",
        "    retrieved_data = quandl.get_table('WIKI/PRICES',\n",
        "                                      ticker=tickers,\n",
        "                                      qopts={'columns': data_columns},\n",
        "                                      date={'gte': start_date, 'lte': end_date},\n",
        "                                      paginate=True\n",
        "                                      )\n",
        "    return retrieved_data\n",
        "\n",
        "def data_preperation(retrieved_data):\n",
        "  # Retrieved Data Manipulation for analysis\n",
        "  clean = retrieved_data.set_index('date')\n",
        "  table = clean.pivot(columns='ticker')\n",
        "\n",
        "  # Data Perperation\n",
        "  returns_daily = table.pct_change()[table.shift(1).notnull()].dropna()\n",
        "  tickers_retrived = returns_daily.columns.droplevel().values\n",
        "#   print(\"Retrived adj_close date for: \", tickers_retrived)\n",
        "  return(returns_daily)\n",
        "\n"
      ],
      "execution_count": 0,
      "outputs": []
    },
    {
      "cell_type": "code",
      "metadata": {
        "id": "0PV-dGy1ZnDE",
        "colab_type": "code",
        "colab": {}
      },
      "source": [
        "# Portfolio\n",
        "# ---------------------------\n",
        "\n",
        "def get_portfolio(returns, weights):\n",
        "  weights_arr = np.array([weights])  \n",
        "  return np.dot(returns,weights_arr.T)\n",
        "\n",
        "def get_portfolio_return(weights, returns):\n",
        "  port = get_portfolio(returns, weights)\n",
        "  return np.product(1 + port) - 1\n",
        "\n",
        "def get_portfolio_risk(weights, returns):\n",
        "  cov_daily = np.cov(returns, rowvar=False, ddof=0)\n",
        "  sample_size = len(returns)\n",
        "  weights_arr = np.array([weights])\n",
        "  w_mat = np.dot(weights_arr.T, weights_arr)\n",
        "  w_cov_mat = np.sum(w_mat*cov_daily)*(sample_size/(sample_size-1))\n",
        "  return np.sqrt(w_cov_mat)*np.sqrt(sample_size)\n",
        "\n",
        "def sharp_r(weights, returns):\n",
        "  port_return = get_portfolio_return(weights, returns) - annual_risk_free_intrest\n",
        "  port_risk = get_portfolio_risk(weights, returns)\n",
        "  return port_return/port_risk\n",
        "\n",
        "def opt_sharp_r(weights, returns):\n",
        "  port_return = get_portfolio_return(weights, returns)\n",
        "  port_risk = get_portfolio_risk(weights, returns)\n",
        "  return -port_return/port_risk"
      ],
      "execution_count": 0,
      "outputs": []
    },
    {
      "cell_type": "code",
      "metadata": {
        "id": "fBzMhtXz76oS",
        "colab_type": "code",
        "colab": {}
      },
      "source": [
        "def ofolio_weight (tickers,start_date,end_date,annual_risk_free_intrest,max_single_asset_weight):\n",
        "  \n",
        "  retrieved_data = get_data(tickers,start_date,end_date)\n",
        "  data = data_preperation(retrieved_data)\n",
        "  tickers_retrived = data.columns.droplevel().values\n",
        "  sample_size = len(data)\n",
        "  num_assets = len(tickers_retrived)\n",
        "  \n",
        "  eq_weights = np.full(num_assets, 1/num_assets)\n",
        "  asset_weight_limit = max_single_asset_weight\n",
        "  asset_short_limit = 0\n",
        "  bounds = ((asset_short_limit, asset_weight_limit),) * num_assets\n",
        "  \n",
        "  \n",
        "  maximum_sharpe = minimize(opt_sharp_r, eq_weights, method='SLSQP',\n",
        "                        args=(data),\n",
        "                        constraints=({'type': 'eq', 'fun': lambda weights: 1.0 - np.sum(weights)}),\n",
        "                        bounds=bounds)\n",
        "  \n",
        "  return [[tickers_retrived,maximum_sharpe.x], get_portfolio_return(maximum_sharpe.x, data), get_portfolio_risk(maximum_sharpe.x, data)]"
      ],
      "execution_count": 0,
      "outputs": []
    },
    {
      "cell_type": "code",
      "metadata": {
        "id": "Wc6LoQFB8RzF",
        "colab_type": "code",
        "colab": {
          "base_uri": "https://localhost:8080/",
          "height": 218
        },
        "outputId": "4554079d-ba92-4054-83bc-ba2c711651e1"
      },
      "source": [
        "start = time.time()\n",
        "w = ofolio_weight(tickers,start_date,end_date,annual_risk_free_intrest,max_single_asset_weight)\n",
        "end = time.time()\n",
        "print(end - start)\n",
        "print(w)"
      ],
      "execution_count": 45,
      "outputs": [
        {
          "output_type": "stream",
          "text": [
            "2.085285186767578\n",
            "[[array(['A', 'AAL', 'ACC', 'C', 'CBI', 'CNP', 'CSCO', 'ECOL', 'EE', 'F',\n",
            "       'GGG', 'GM', 'GMO', 'GNE', 'GOOG', 'GS', 'H', 'HD', 'HE', 'KOP',\n",
            "       'KS', 'LORL', 'MAR', 'MCRI', 'MSI', 'PSA', 'QCOM', 'V', 'WMT'],\n",
            "      dtype=object), array([6.12589750e-02, 6.50958253e-14, 5.18088603e-14, 4.71293941e-14,\n",
            "       1.62278418e-13, 1.59954776e-14, 4.55597410e-02, 3.53539443e-14,\n",
            "       3.89378656e-15, 3.00010220e-14, 1.19093982e-13, 6.22803557e-14,\n",
            "       3.12479129e-03, 1.31222918e-13, 6.74473808e-14, 7.68915827e-14,\n",
            "       1.25000000e-01, 4.97620178e-02, 1.80271601e-02, 6.86576611e-14,\n",
            "       1.24919488e-01, 3.71104383e-14, 1.25000000e-01, 1.25000000e-01,\n",
            "       1.25000000e-01, 1.21359883e-14, 8.46381776e-14, 1.25000000e-01,\n",
            "       7.23478266e-02])], 0.397473094053431, 0.12401290137958505]\n"
          ],
          "name": "stdout"
        }
      ]
    }
  ]
}
{
  "nbformat": 4,
  "nbformat_minor": 0,
  "metadata": {
    "colab": {
      "name": "ofolio.ipynb",
      "version": "0.3.2",
      "provenance": [],
      "collapsed_sections": [],
      "include_colab_link": true
    },
    "kernelspec": {
      "name": "python3",
      "display_name": "Python 3"
    }
  },
  "cells": [
    {
      "cell_type": "markdown",
      "metadata": {
        "id": "view-in-github",
        "colab_type": "text"
      },
      "source": [
        "<a href=\"https://colab.research.google.com/github/aaronkor/dlai/blob/master/ofolio.ipynb\" target=\"_parent\"><img src=\"https://colab.research.google.com/assets/colab-badge.svg\" alt=\"Open In Colab\"/></a>"
      ]
    },
    {
      "metadata": {
        "id": "OctVj6Q8MLrW",
        "colab_type": "code",
        "outputId": "d6ebcca9-8c1c-4366-f8a5-9864c99f2941",
        "colab": {
          "base_uri": "https://localhost:8080/",
          "height": 235
        }
      },
      "cell_type": "code",
      "source": [
        "# Installs\n",
        "# ---------------------------\n",
        "!pip install quandl\n",
        "\n",
        "# Imports\n",
        "# ---------------------------\n",
        "import quandl\n",
        "import pandas as pd\n",
        "import numpy as np\n",
        "import time\n",
        "from scipy.optimize import minimize\n",
        "import matplotlib.pyplot as plt\n",
        "\n",
        "quandl.ApiConfig.api_key = 'yNJSYyossf9pcx-SEepW'"
      ],
      "execution_count": 1,
      "outputs": [
        {
          "output_type": "stream",
          "text": [
            "Requirement already satisfied: quandl in /usr/local/lib/python3.6/dist-packages (3.4.6)\n",
            "Requirement already satisfied: inflection>=0.3.1 in /usr/local/lib/python3.6/dist-packages (from quandl) (0.3.1)\n",
            "Requirement already satisfied: python-dateutil in /usr/local/lib/python3.6/dist-packages (from quandl) (2.5.3)\n",
            "Requirement already satisfied: pandas>=0.14 in /usr/local/lib/python3.6/dist-packages (from quandl) (0.24.2)\n",
            "Requirement already satisfied: six in /usr/local/lib/python3.6/dist-packages (from quandl) (1.12.0)\n",
            "Requirement already satisfied: more-itertools in /usr/local/lib/python3.6/dist-packages (from quandl) (7.0.0)\n",
            "Requirement already satisfied: requests>=2.7.0 in /usr/local/lib/python3.6/dist-packages (from quandl) (2.21.0)\n",
            "Requirement already satisfied: numpy>=1.8 in /usr/local/lib/python3.6/dist-packages (from quandl) (1.16.3)\n",
            "Requirement already satisfied: pytz>=2011k in /usr/local/lib/python3.6/dist-packages (from pandas>=0.14->quandl) (2018.9)\n",
            "Requirement already satisfied: urllib3<1.25,>=1.21.1 in /usr/local/lib/python3.6/dist-packages (from requests>=2.7.0->quandl) (1.24.2)\n",
            "Requirement already satisfied: certifi>=2017.4.17 in /usr/local/lib/python3.6/dist-packages (from requests>=2.7.0->quandl) (2019.3.9)\n",
            "Requirement already satisfied: idna<2.9,>=2.5 in /usr/local/lib/python3.6/dist-packages (from requests>=2.7.0->quandl) (2.8)\n",
            "Requirement already satisfied: chardet<3.1.0,>=3.0.2 in /usr/local/lib/python3.6/dist-packages (from requests>=2.7.0->quandl) (3.0.4)\n"
          ],
          "name": "stdout"
        }
      ]
    },
    {
      "metadata": {
        "id": "vwlVxkE6MdAg",
        "colab_type": "code",
        "colab": {}
      },
      "cell_type": "code",
      "source": [
        "# Optimization Inputs\n",
        "# ---------------------------\n",
        "# Portfolio Assets List\n",
        "tickers = ['CNP', 'F', 'WMT', 'C', 'A', 'V', 'AAL', 'HD', 'MSI', 'GM', 'GS', 'GOOG', 'QCOM', 'CSCO', 'MGAWY', 'PSA', 'LIN', 'KOD']\n",
        "# Optimizaed for period Start_Date / End_Date\n",
        "start_date = '2017-4-1'\n",
        "end_date = '2018-3-31'"
      ],
      "execution_count": 0,
      "outputs": []
    },
    {
      "metadata": {
        "id": "lLnR0s2nNmHu",
        "colab_type": "code",
        "outputId": "a5e51d1f-b577-4530-968d-efe19fcf34cf",
        "colab": {
          "base_uri": "https://localhost:8080/",
          "height": 84
        }
      },
      "cell_type": "code",
      "source": [
        "# Get Data\n",
        "# ---------------------------\n",
        "# If is_online = Ture, retriving from Quandl, else retriving from\n",
        "# retrieved_date.csv file\n",
        "is_online = True\n",
        "\n",
        "if is_online:\n",
        "    data_columns = ['date', 'ticker', 'adj_close']\n",
        "    retrieved_date = quandl.get_table('WIKI/PRICES',\n",
        "                                      ticker=tickers,\n",
        "                                      qopts={'columns': data_columns},\n",
        "                                      date={'gte': start_date, 'lte': end_date},\n",
        "                                      paginate=True\n",
        "                                      )\n",
        "\n",
        "    retrieved_date.to_csv('retrieved_date.csv', encoding='utf-8', index=False)\n",
        "else:\n",
        "    retrieved_date = pd.read_csv('retrieved_date.csv')\n",
        "    \n",
        "# Retrieved Data Manipulation for analysis\n",
        "clean = retrieved_date.set_index('date')\n",
        "table = clean.pivot(columns='ticker')\n",
        "\n",
        "# Data Perperation\n",
        "returns_daily = table.pct_change()[table.shift(1).notnull()].dropna()\n",
        "tickers_retrived = returns_daily.columns.droplevel().values\n",
        "print(\"Retrived adj_close date for: \", tickers_retrived)\n",
        "\n",
        "# Importent Variables\n",
        "sample_size = len(returns_daily)\n",
        "num_assets = len(tickers_retrived)\n",
        "print(\"Total number of assets: \", num_assets,\". The sample size is: \",\n",
        "      sample_size, \". Total Date: \", num_assets*sample_size)\n",
        "print(\"======================================\")\n",
        "\n"
      ],
      "execution_count": 59,
      "outputs": [
        {
          "output_type": "stream",
          "text": [
            "Retrived adj_close date for:  ['A' 'AAL' 'C' 'CNP' 'CSCO' 'F' 'GM' 'GOOG' 'GS' 'HD' 'MSI' 'PSA' 'QCOM'\n",
            " 'V' 'WMT']\n",
            "Total number of assets:  15 . The sample size is:  245 . Total Date:  3675\n",
            "======================================\n"
          ],
          "name": "stdout"
        }
      ]
    },
    {
      "metadata": {
        "id": "1i8a0AbkQReu",
        "colab_type": "code",
        "colab": {}
      },
      "cell_type": "code",
      "source": [
        "# Assets Statistics\n",
        "# ---------------------------\n",
        "\n",
        "# returns_daily_avg = returns_daily.mean()\n",
        "returns_daily_avg = np.product(returns_daily + 1) - 1\n",
        "returns_daily_stdev = np.std(returns_daily, ddof=1) * np.sqrt(sample_size)\n",
        "cov_daily = np.cov(returns_daily, rowvar=False, ddof=0)\n",
        "\n",
        "# print(returns_daily_avg)\n",
        "# print(returns_daily_stdev)\n",
        "# print(cov_daily)"
      ],
      "execution_count": 0,
      "outputs": []
    },
    {
      "metadata": {
        "id": "0GZfyJ05RCrX",
        "colab_type": "code",
        "colab": {}
      },
      "cell_type": "code",
      "source": [
        "# Portfolio\n",
        "# ---------------------------\n",
        "\n",
        "def get_portfolio(returns, weights):\n",
        "  weights_arr = np.array([weights])  \n",
        "  return np.dot(returns,weights_arr.T)\n",
        "\n",
        "def get_portfolio_return(weights, returns):\n",
        "  port = get_portfolio(returns, weights)\n",
        "  return np.product(1 + port) - 1\n",
        "\n",
        "def get_portfolio_risk(weights, returns):\n",
        "  weights_arr = np.array([weights])\n",
        "  w_mat = np.dot(weights_arr.T, weights_arr)\n",
        "  w_cov_mat = np.sum(w_mat*cov_daily)*(sample_size/(sample_size-1))\n",
        "  return np.sqrt(w_cov_mat)*np.sqrt(sample_size)\n",
        "\n",
        "def sharp_r(weights, returns):\n",
        "  port_return = get_portfolio_return(weights, returns)\n",
        "  port_risk = get_portfolio_risk(weights, returns)\n",
        "  return port_return/port_risk\n",
        "\n",
        "def opt_sharp_r(weights, returns):\n",
        "  port_return = get_portfolio_return(weights, returns)\n",
        "  port_risk = get_portfolio_risk(weights, returns)\n",
        "  return -port_return/port_risk"
      ],
      "execution_count": 0,
      "outputs": []
    },
    {
      "metadata": {
        "id": "vwp6Qsq0iX8y",
        "colab_type": "code",
        "outputId": "4ae9ca42-7e98-4443-b204-043994a87b66",
        "colab": {
          "base_uri": "https://localhost:8080/",
          "height": 34
        }
      },
      "cell_type": "code",
      "source": [
        "# Market\n",
        "eq_weights = np.full(num_assets, 1/num_assets)\n",
        "market_returns = get_portfolio(returns_daily, eq_weights)\n",
        "market_return = get_portfolio_return(eq_weights, returns_daily)\n",
        "market_risk = get_portfolio_risk(eq_weights, returns_daily)\n",
        "market_sharp = sharp_r(eq_weights,returns_daily)\n",
        "\n",
        "print(\"Market Return: \",market_return,\"| Market Risk: \", market_risk,\n",
        "      \"| Sharp Ratio: \", market_sharp)\n"
      ],
      "execution_count": 62,
      "outputs": [
        {
          "output_type": "stream",
          "text": [
            "Market Return:  0.15713751862312986 | Market Risk:  0.12300560500618388 | Sharp Ratio:  1.2774825880107663\n"
          ],
          "name": "stdout"
        }
      ]
    },
    {
      "metadata": {
        "id": "DX2sLPYbzGkI",
        "colab_type": "code",
        "colab": {}
      },
      "cell_type": "code",
      "source": [
        "# Optimization - Minimum Risk\n",
        "# ---------------------------\n",
        "w0 = eq_weights\n",
        "asset_weight_limit = 0.1667\n",
        "asset_short_limit = 0\n",
        "bounds = ((asset_short_limit, asset_weight_limit),) * num_assets\n",
        "\n",
        "minimum_risk = minimize(get_portfolio_risk, w0, method='SLSQP',\n",
        "                        args=(returns_daily),\n",
        "                        constraints=({'type': 'eq', 'fun': lambda weights: 1.0 - np.sum(weights)}),\n",
        "                        bounds=bounds)\n",
        "minimum_risk_return = get_portfolio_return(minimum_risk.x, returns_daily)\n",
        "minimun_risk_risk = get_portfolio_risk(minimum_risk.x, returns_daily)"
      ],
      "execution_count": 0,
      "outputs": []
    },
    {
      "metadata": {
        "id": "WDtX1FK57V2U",
        "colab_type": "code",
        "outputId": "3c36e251-3269-44ef-8156-ff7bf36ce3c1",
        "colab": {
          "base_uri": "https://localhost:8080/",
          "height": 118
        }
      },
      "cell_type": "code",
      "source": [
        "# Optimization - Maximum Sharpe\n",
        "# ---------------------------\n",
        "\n",
        "maximum_sharpe = minimize(opt_sharp_r, w0, method='SLSQP',\n",
        "                        args=(returns_daily),\n",
        "                        constraints=({'type': 'eq', 'fun': lambda weights: 1.0 - np.sum(weights)}),\n",
        "                        bounds=bounds)\n",
        "maximum_sharpe_return = get_portfolio_return(maximum_sharpe.x, returns_daily)\n",
        "maximum_sharpe_risk = get_portfolio_risk(maximum_sharpe.x, returns_daily)\n",
        "\n",
        "print(tickers_retrived)\n",
        "print(maximum_sharpe.x)\n"
      ],
      "execution_count": 64,
      "outputs": [
        {
          "output_type": "stream",
          "text": [
            "['A' 'AAL' 'C' 'CNP' 'CSCO' 'F' 'GM' 'GOOG' 'GS' 'HD' 'MSI' 'PSA' 'QCOM'\n",
            " 'V' 'WMT']\n",
            "[1.66700000e-01 2.94925458e-02 3.89727810e-16 0.00000000e+00\n",
            " 1.66700000e-01 1.30427643e-16 0.00000000e+00 6.40568819e-16\n",
            " 3.73301182e-16 1.51299556e-01 1.66700000e-01 0.00000000e+00\n",
            " 1.03519609e-15 1.66700000e-01 1.52407898e-01]\n"
          ],
          "name": "stdout"
        }
      ]
    },
    {
      "metadata": {
        "id": "HEVA2ut18MeT",
        "colab_type": "code",
        "colab": {}
      },
      "cell_type": "code",
      "source": [
        "# Efficient Frontier - Maximum Sharpe\n",
        "# ---------------------------\n",
        "\n",
        "minimum_return = np.min(returns_daily_avg)\n",
        "maximum_return = np.max(returns_daily_avg)\n",
        "ef_return = np.array([])\n",
        "ef_risk = np.array([])\n",
        "\n",
        "step = 0.0013\n",
        "for target_return in np.arange(minimum_return, maximum_return + step, step):\n",
        "  ef = minimize(get_portfolio_risk,\n",
        "                w0,\n",
        "                method='SLSQP',\n",
        "                args=(returns_daily),\n",
        "                constraints=({'type': 'eq', 'fun': lambda weights: 1.0 - np.sum(weights)},\n",
        "                             {'type': 'eq', 'fun': lambda weights: target_return - get_portfolio_return(weights=weights, returns=returns_daily)}),\n",
        "                bounds=bounds)\n",
        "  ef_return = np.append(ef_return, get_portfolio_return(ef.x, returns_daily))\n",
        "  ef_risk = np.append(ef_risk, get_portfolio_risk(ef.x, returns_daily))\n",
        "\n",
        "  \n",
        "  "
      ],
      "execution_count": 0,
      "outputs": []
    },
    {
      "metadata": {
        "id": "o4tOiV4Xxkgd",
        "colab_type": "code",
        "colab": {}
      },
      "cell_type": "code",
      "source": [
        "# Efficient Frontier - Unlimited - purpel\n",
        "# ---------------------------\n",
        "bounds = ((0.0, 1.0),) * num_assets\n",
        "minimum_return = np.min(returns_daily_avg)\n",
        "maximum_return = np.max(returns_daily_avg)\n",
        "ef_ul_return = np.array([])\n",
        "ef_ul_risk = np.array([])\n",
        "\n",
        "step = 0.0013\n",
        "for target_return in np.arange(minimum_return, maximum_return + step, step):\n",
        "  ef_ul = minimize(get_portfolio_risk,\n",
        "                w0,\n",
        "                method='SLSQP',\n",
        "                args=(returns_daily),\n",
        "                constraints=({'type': 'eq', 'fun': lambda weights: 1.0 - np.sum(weights)},\n",
        "                             {'type': 'eq', 'fun': lambda weights: target_return - get_portfolio_return(weights=weights, returns=returns_daily)}),\n",
        "                bounds=bounds)\n",
        "  ef_ul_return = np.append(ef_ul_return, get_portfolio_return(ef_ul.x, returns_daily))\n",
        "  ef_ul_risk = np.append(ef_ul_risk, get_portfolio_risk(ef_ul.x, returns_daily))"
      ],
      "execution_count": 0,
      "outputs": []
    },
    {
      "metadata": {
        "id": "R7gQsQp_C_oc",
        "colab_type": "code",
        "colab": {}
      },
      "cell_type": "code",
      "source": [
        "# Simulation\n",
        "# ---------------------------\n",
        "risk_all = np.array([])\n",
        "return_all = np.array([])\n",
        "\n",
        "for i in range(0,6000):\n",
        "  weights = np.random.rand(num_assets)\n",
        "  weights = weights/sum(weights)\n",
        "  \n",
        "  port_return = get_portfolio_return(weights, returns_daily)\n",
        "  port_risk = get_portfolio_risk(weights, returns_daily)\n",
        "  \n",
        "  risk_all = np.append(risk_all, port_risk)\n",
        "  return_all = np.append(return_all, port_return)\n"
      ],
      "execution_count": 0,
      "outputs": []
    },
    {
      "metadata": {
        "id": "Po3TGkmnjX82",
        "colab_type": "code",
        "outputId": "cb7b104a-b071-4df2-f57b-9dbfd6ba3cfc",
        "colab": {
          "base_uri": "https://localhost:8080/",
          "height": 486
        }
      },
      "cell_type": "code",
      "source": [
        "# Assests and Market Ploting\n",
        "# ---------------------------\n",
        "\n",
        "fig, ax = plt.subplots(figsize=(10, 7.5))\n",
        "\n",
        "ax.scatter(x=risk_all, y=return_all, alpha=0.12, color='grey')\n",
        "ax.scatter(x=returns_daily_stdev, y=returns_daily_avg, alpha=1, color='blue')\n",
        "ax.scatter(x=market_risk, y=market_return, alpha=1, color='red')\n",
        "ax.plot(ef_ul_risk, ef_ul_return, '-', color='black')\n",
        "ax.plot(ef_risk, ef_return, '-', color='green')\n",
        "ax.scatter(x=minimun_risk_risk, y=minimum_risk_return, alpha=1, color='orange')\n",
        "ax.scatter(x=maximum_sharpe_risk, y=maximum_sharpe_return, alpha=1, color='black')\n",
        "ax.set(title='Return and Risk', xlabel='Risk', ylabel='Return')\n",
        "\n",
        "for i, symbol in enumerate(tickers_retrived):\n",
        "    ax.annotate(symbol, (returns_daily_stdev[i], returns_daily_avg[i]))\n",
        "ax.annotate('Market', (market_risk, market_return))\n",
        "plt.grid()\n",
        "plt.show()"
      ],
      "execution_count": 68,
      "outputs": [
        {
          "output_type": "display_data",
          "data": {
            "image/png": "[encoded data removed]",
            "text/plain": [
              "<Figure size 720x540 with 1 Axes>"
            ]
          },
          "metadata": {
            "tags": []
          }
        }
      ]
    }
  ]
}